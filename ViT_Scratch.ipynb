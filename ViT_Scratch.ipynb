{
 "cells": [
  {
   "cell_type": "markdown",
   "metadata": {},
   "source": [
    "# ViT working on Satori"
   ]
  },
  {
   "cell_type": "markdown",
   "metadata": {},
   "source": [
    "The goal of this notebook is to get a ViT model training and running on Satori architecture. Once everything works in this notebook, the ViT code will be integrated into the master_ifcb_classifier \n",
    "\n",
    "I will be using as much of other people's code as possible. References will be in this bullet list:\n",
    "- currently copying from Deep Learning homework (https://colab.research.google.com/drive/1jbiPCM6R12-U89wZ7jBBg55UkDyafv8j#scrollTo=d90ecba6)"
   ]
  },
  {
   "cell_type": "code",
   "execution_count": 1,
   "metadata": {},
   "outputs": [
    {
     "name": "stderr",
     "output_type": "stream",
     "text": [
      "/home/birdy/.conda/envs/cv-env/lib/python3.10/site-packages/tqdm/auto.py:21: TqdmWarning: IProgress not found. Please update jupyter and ipywidgets. See https://ipywidgets.readthedocs.io/en/stable/user_install.html\n",
      "  from .autonotebook import tqdm as notebook_tqdm\n"
     ]
    }
   ],
   "source": [
    "import torch\n",
    "import torch.nn as nn\n",
    "from typing import Tuple, Union, Optional, List\n",
    "import torchvision\n",
    "import torchvision.transforms as transforms\n",
    "import matplotlib.pyplot as plt\n",
    "import numpy as np\n",
    "import torch.optim as optim\n"
   ]
  },
  {
   "cell_type": "markdown",
   "metadata": {},
   "source": [
    "## ViT Architecture"
   ]
  },
  {
   "cell_type": "code",
   "execution_count": 2,
   "metadata": {},
   "outputs": [],
   "source": [
    "class AttentionHead(nn.Module):\n",
    "    def __init__(self, dim: int, n_hidden: int):\n",
    "        # dim: the dimension of the input\n",
    "        # n_hidden: the dimension of the keys, queries, and values\n",
    "\n",
    "        super().__init__()\n",
    "\n",
    "        self.W_K = nn.Linear(dim, n_hidden) # W_K weight matrix\n",
    "        self.W_Q = nn.Linear(dim, n_hidden) # W_Q weight matrix\n",
    "        self.W_V = nn.Linear(dim, n_hidden) # W_V weight matrix\n",
    "        self.n_hidden = n_hidden\n",
    "\n",
    "    def forward(self, x: torch.Tensor, attn_mask: Optional[torch.Tensor]) -> Tuple[torch.Tensor, torch.Tensor]:\n",
    "        # x                the inputs. shape: (B x T x dim)\n",
    "        # attn_mask        an attention mask. If None, ignore. If not None, then mask[b, i, j]\n",
    "        #                  contains 1 if (in batch b) token i should attend on token j and 0\n",
    "        #                  otherwise. shape: (B x T x T)\n",
    "        #\n",
    "        # Outputs:\n",
    "        # attn_output      the output of performing self-attention on x. shape: (Batch x Num_tokens x n_hidden)\n",
    "        # alpha            the attention weights (after softmax). shape: (B x T x T)\n",
    "        #\n",
    "\n",
    "        out, alpha = None, None\n",
    "        # TODO: Compute self attention on x.\n",
    "        #       (1) First project x to the query Q, key K, value V.\n",
    "        #       (2) Then compute the attention weights alpha as:\n",
    "        #                  alpha = softmax(QK^T/sqrt(n_hidden))\n",
    "        #           Make sure to take into account attn_mask such that token i does not attend on token\n",
    "        #           j if attn_mask[b, i, j] == 0. (Hint, in such a case, what value should you set the weight\n",
    "        #           to before the softmax so that after the softmax the value is 0?)\n",
    "        #       (3) The output is a linear combination of the values (weighted by the alphas):\n",
    "        #                  out = alpha V\n",
    "        #       (4) return the output and the alpha after the softmax\n",
    "\n",
    "        # ======= Answer START ========\n",
    "        # First project x to the query Q, key K, value V.\n",
    "        Q = torch.matmul(x, self.W_Q.weight.t())\n",
    "        K = torch.matmul(x, self.W_K.weight.t())\n",
    "        V = torch.matmul(x, self.W_V.weight.t())\n",
    "\n",
    "        # Then compute the attention weights alpha as alpha = softmax(QK^T/sqrt(n_hidden))\n",
    "        temp = torch.matmul(Q,K.transpose(1,2))/np.sqrt(self.n_hidden)\n",
    "\n",
    "        # take into account attn_mask such that token i does not attend on token j if attn_mask[b, i, j] == 0.\n",
    "        if attn_mask != None:\n",
    "          temp = temp.masked_fill(attn_mask==0, float(\"-inf\"))\n",
    "\n",
    "        alpha = torch.softmax(temp, -1)\n",
    "\n",
    "        # The output is a linear combination of the values (weighted by the alphas):\n",
    "        attn_output = torch.matmul(alpha, V)\n",
    "        # ======= Answer  END ========\n",
    "\n",
    "        return attn_output, alpha\n"
   ]
  },
  {
   "cell_type": "code",
   "execution_count": 3,
   "metadata": {},
   "outputs": [],
   "source": [
    "class MultiHeadedAttention(nn.Module):\n",
    "    def __init__(self, dim: int, n_hidden: int, num_heads: int):\n",
    "        # dim: the dimension of the input\n",
    "        # n_hidden: the hidden dimenstion for the attention layer\n",
    "        # num_heads: the number of attention heads\n",
    "        super().__init__()\n",
    "\n",
    "        # TODO: set up your parameters for multi-head attention. You should initialize\n",
    "        #       num_heads attention heads (see nn.ModuleList) as well as a linear layer\n",
    "        #       that projects the concatenated outputs of each head into dim\n",
    "        #       (what size should this linear layer be?)\n",
    "        # ======= Answer START ========\n",
    "        self.heads = nn.ModuleList([AttentionHead(dim, n_hidden=n_hidden)]*num_heads)\n",
    "        self.W_O = nn.Linear(n_hidden*num_heads, dim)\n",
    "        self.n_hidden = n_hidden\n",
    "        # ======= Answer  END ========\n",
    "\n",
    "    def forward(self, x: torch.Tensor, attn_mask: Optional[torch.Tensor]) -> Tuple[torch.Tensor, torch.Tensor]:\n",
    "        # x                the inputs. shape: (B x T x dim)\n",
    "        # attn_mask        an attention mask. If None, ignore. If not None, then mask[b, i, j]\n",
    "        #                  contains 1 if (in batch b) token i should attend on token j and 0\n",
    "        #                  otherwise. shape: (B x T x T)\n",
    "        #\n",
    "        # Outputs:\n",
    "        # attn_output      the output of performing multi-headed self-attention on x.\n",
    "        #                  shape: (B x T x dim)\n",
    "        # attn_alphas      the attention weights of each of the attention heads.\n",
    "        #                  shape: (B x Num_heads x T x T)\n",
    "\n",
    "        attn_output, attn_alphas = None, None\n",
    "\n",
    "        # TODO: Compute multi-headed attention. Loop through each of your attention heads\n",
    "        #       and collect the outputs. Concatenate them together along the hidden dimension,\n",
    "        #       and then project them back into the output dimension (dim). Return both\n",
    "        #       the final attention outputs as well as the alphas from each head.\n",
    "        # ======= Answer START ========\n",
    "        outputs = []\n",
    "        alphas = []\n",
    "\n",
    "        for head in self.heads:\n",
    "          attn_output, alpha = head.forward(x, attn_mask)\n",
    "          outputs.append(attn_output)\n",
    "          alphas.append(alpha)\n",
    "\n",
    "        outputs = torch.cat(outputs, 2)\n",
    "        attn_alphas = torch.stack(alphas, 1)\n",
    "        attn_output = torch.matmul(outputs, self.W_O.weight.t())\n",
    "        # ======= Answer END ==========\n",
    "        return attn_output, attn_alphas"
   ]
  },
  {
   "cell_type": "code",
   "execution_count": 4,
   "metadata": {},
   "outputs": [],
   "source": [
    "# these are already implemented for you!\n",
    "\n",
    "class FFN(nn.Module):\n",
    "    def __init__(self, dim: int, n_hidden: int):\n",
    "        # dim       the dimension of the input\n",
    "        # n_hidden  the width of the linear layer\n",
    "\n",
    "        super().__init__()\n",
    "        self.net = nn.Sequential(\n",
    "            nn.LayerNorm(dim),\n",
    "            nn.Linear(dim, n_hidden),\n",
    "            nn.GELU(),\n",
    "            nn.Linear(n_hidden, dim),\n",
    "        )\n",
    "\n",
    "    def forward(self, x: torch.Tensor)-> torch.Tensor:\n",
    "        # x         the input. shape: (B x T x dim)\n",
    "\n",
    "        # Outputs:\n",
    "        # out       the output of the feed-forward network: (B x T x dim)\n",
    "        return self.net(x)\n",
    "\n",
    "class AttentionResidual(nn.Module):\n",
    "    def __init__(self, dim: int, attn_dim: int, mlp_dim: int, num_heads: int):\n",
    "        # dim       the dimension of the input\n",
    "        # attn_dim  the hidden dimension of the attention layer\n",
    "        # mlp_dim   the hidden layer of the FFN\n",
    "        # num_heads the number of heads in the attention layer\n",
    "        super().__init__()\n",
    "        self.attn = MultiHeadedAttention(dim, attn_dim, num_heads)\n",
    "        self.ffn = FFN(dim, mlp_dim)\n",
    "\n",
    "    def forward(self, x: torch.Tensor, attn_mask: torch.Tensor) -> Tuple[torch.Tensor, torch.Tensor]:\n",
    "        # x                the inputs. shape: (B x T x dim)\n",
    "        # attn_mask        an attention mask. If None, ignore. If not None, then mask[b, i, j]\n",
    "        #                  contains 1 if (in batch b) token i should attend on token j and 0\n",
    "        #                  otherwise. shape: (B x T x T)\n",
    "        #\n",
    "        # Outputs:\n",
    "        # attn_output      shape: (B x T x dim)\n",
    "        # attn_alphas      the attention weights of each of the attention heads.\n",
    "        #                  shape: (B x Num_heads x T x T)\n",
    "\n",
    "        attn_out, alphas = self.attn(x=x, attn_mask=attn_mask)\n",
    "        x = attn_out + x\n",
    "        x = self.ffn(x) + x\n",
    "        return x, alphas"
   ]
  },
  {
   "cell_type": "code",
   "execution_count": null,
   "metadata": {},
   "outputs": [],
   "source": []
  },
  {
   "cell_type": "code",
   "execution_count": 5,
   "metadata": {},
   "outputs": [],
   "source": [
    "class Transformer(nn.Module):\n",
    "    def __init__(self, dim: int, attn_dim: int, mlp_dim: int, num_heads: int, num_layers: int):\n",
    "        # dim       the dimension of the input\n",
    "        # attn_dim  the hidden dimension of the attention layer\n",
    "        # mlp_dim   the hidden layer of the FFN\n",
    "        # num_heads the number of heads in the attention layer\n",
    "        # num_layers the number of attention layers.\n",
    "        super().__init__()\n",
    "\n",
    "        # TODO: set up the parameters for the transformer!\n",
    "        #       You should set up num_layers of AttentionResiduals\n",
    "        #       nn.ModuleList will be helpful here.\n",
    "        # ======= Answer START ========\n",
    "        self.net = nn.ModuleList([AttentionResidual(dim, attn_dim, mlp_dim, num_heads)]*num_layers)\n",
    "        # ======= Answer END ==========\n",
    "\n",
    "    def forward(self, x: torch.Tensor, attn_mask: torch.Tensor, return_attn=False)-> Tuple[torch.Tensor, Optional[torch.Tensor]]:\n",
    "        # x                the inputs. shape: (B x T x dim)\n",
    "        # attn_mask        an attention mask. Pass this to each of the AttentionResidual layers!\n",
    "        #                  shape: (B x T x T)\n",
    "        #\n",
    "        # Outputs:\n",
    "        # attn_output      shape: (B x T x dim)\n",
    "        # attn_alphas      If return_attn is False, return None. Otherwise return the attention weights\n",
    "        #                  of each of each of the attention heads for each of the layers.\n",
    "        #                  shape: (B x Num_layers x Num_heads x T x T)\n",
    "\n",
    "        output, collected_attns = None, None\n",
    "\n",
    "        # TODO: Implement the transformer forward pass! Pass the input successively through each of the\n",
    "        # AttentionResidual layers. If return_attn is True, collect the alphas along the way.\n",
    "\n",
    "        # ======= Answer START ========\n",
    "        if return_attn:\n",
    "          collected_attns = []\n",
    "        for layer in self.net:\n",
    "          x, alphas = layer.forward(x, attn_mask)\n",
    "          if return_attn:\n",
    "            collected_attns.append(alphas)\n",
    "        output = x\n",
    "        if return_attn:\n",
    "          collected_attns = torch.stack(collected_attns, 1)\n",
    "        # ======= Answer END ==========\n",
    "        return output, collected_attns"
   ]
  },
  {
   "cell_type": "code",
   "execution_count": 6,
   "metadata": {},
   "outputs": [
    {
     "name": "stdout",
     "output_type": "stream",
     "text": [
      "Test Case 1\n",
      "Test Case 2\n"
     ]
    }
   ],
   "source": [
    "def perform_transformer_test_cases():\n",
    "    num_tokens = 100\n",
    "    batch_size = 10\n",
    "    dim = 64\n",
    "    num_layers = 4\n",
    "    num_heads = 2\n",
    "    dummy_model = Transformer(dim=dim, attn_dim=32, mlp_dim=dim, num_heads=num_heads, num_layers=num_layers).cuda()\n",
    "\n",
    "    inp = torch.randn(batch_size, num_tokens, dim).cuda()\n",
    "\n",
    "    # test case 1 regular forward pass\n",
    "    print(\"Test Case 1\")\n",
    "    with torch.no_grad():\n",
    "        output, alpha = dummy_model(inp, attn_mask=None)\n",
    "        assert alpha is None\n",
    "        assert output.shape == (batch_size, num_tokens, dim), f\"wrong output shape {output.shape}\"\n",
    "\n",
    "    # test case 2 collect attentions\n",
    "    print(\"Test Case 2\")\n",
    "    with torch.no_grad():\n",
    "        output, alpha = dummy_model(inp, attn_mask=None, return_attn=True)\n",
    "        assert output.shape == (batch_size, num_tokens, dim), f\"wrong output shape {output.shape}\"\n",
    "        assert alpha.shape == (batch_size, num_layers, num_heads, num_tokens, num_tokens), f\"wrong alpha shape {alpha.shape}. Expected {(batch_size, num_layers, num_heads, num_tokens, num_tokens)}\"\n",
    "\n",
    "    # test case 3 with attention mask\n",
    "    attn_mask = torch.zeros(batch_size, num_tokens, num_tokens).cuda()\n",
    "    attn_mask[:, torch.arange(num_tokens), torch.arange(num_tokens)] = 1\n",
    "    attn_mask[:, torch.arange(num_tokens)[1:], torch.arange(num_tokens)[:-1]] = 1\n",
    "\n",
    "    with torch.no_grad():\n",
    "        output, alpha = dummy_model(inp, attn_mask=attn_mask, return_attn=True)\n",
    "#         print(\"Attention mask pattern\", attn_mask[0])\n",
    "#         print(\"Alpha pattern\", alpha[0, 0, 0])\n",
    "        assert torch.all(alpha.permute(1, 2, 0, 3, 4)[:, :, attn_mask == 0] == 0).item()\n",
    "\n",
    "perform_transformer_test_cases()"
   ]
  },
  {
   "cell_type": "code",
   "execution_count": 7,
   "metadata": {},
   "outputs": [],
   "source": [
    "class PatchEmbed(nn.Module):\n",
    "    \"\"\" Image to Patch Embedding\n",
    "    \"\"\"\n",
    "    def __init__(self, img_size: int, patch_size: int, nin: int, nout: int):\n",
    "        # img_size       the width and height of the image. you can assume that\n",
    "        #                the images will be square\n",
    "        # patch_size     the width of each square patch. You can assume that\n",
    "        #                img_size is divisible by patch_size\n",
    "        # nin            the number of input channels - color channels?\n",
    "        # nout           the number of output channels - ? embed size?\n",
    "\n",
    "        super().__init__()\n",
    "        assert img_size % patch_size == 0\n",
    "\n",
    "        self.img_size = img_size\n",
    "        self.num_patches = (img_size // patch_size)**2\n",
    "\n",
    "        # TODO Set up parameters for the Patch Embedding\n",
    "        # ======= Answer START ========\n",
    "        self.patch_size = patch_size\n",
    "        self.nout = nout\n",
    "        self.projection = nn.Sequential(\n",
    "            nn.Conv2d(in_channels = nin, out_channels = nout, kernel_size=patch_size, stride=patch_size),\n",
    "        )\n",
    "        # ======= Answer END ==========\n",
    "\n",
    "    def forward(self, x: torch.Tensor):\n",
    "        # x        the input image. shape: (B, nin, Height, Width)\n",
    "        #\n",
    "        # Output\n",
    "        # out      the patch embeddings for the input. shape: (B, num_patches, nout)\n",
    "\n",
    "\n",
    "        # TODO: Implement the patch embedding. You want to split up the image into\n",
    "        # square patches of the given patch size. Then each patch_size x patch_size\n",
    "        # square should be linearly projected into an embedding of size nout.\n",
    "        #\n",
    "        # Hint: Take a look at nn.Conv2d. How can this be used to perform the\n",
    "        #       patch embedding?\n",
    "        out = None\n",
    "\n",
    "        # ======= Answer START ========\n",
    "        out = self.projection(x)\n",
    "        # Rearrange('b e (h) (w) -> b (h w) e')\n",
    "        out = out.reshape([x.shape[0], self.num_patches, self.nout])\n",
    "        # ======= Answer END ==========\n",
    "\n",
    "        return out"
   ]
  },
  {
   "cell_type": "code",
   "execution_count": 8,
   "metadata": {},
   "outputs": [],
   "source": [
    "class VisionTransformer(nn.Module):\n",
    "    def __init__(self, n_channels: int, nout: int, img_size: int, patch_size: int, dim: int, attn_dim: int,\n",
    "                 mlp_dim: int, num_heads: int, num_layers: int):\n",
    "        # n_channels       number of input image channels\n",
    "        # nout             desired output dimension\n",
    "        # img_size         width of the square image\n",
    "        # patch_size       width of the square patch\n",
    "        # dim              embedding dimension\n",
    "        # attn_dim         the hidden dimension of the attention layer\n",
    "        # mlp_dim          the hidden layer dimension of the FFN\n",
    "        # num_heads        the number of heads in the attention layer\n",
    "        # num_layers       the number of attention layers.\n",
    "        super().__init__()\n",
    "        self.patch_embed = PatchEmbed(img_size=img_size, patch_size=patch_size, nin=n_channels, nout=dim)\n",
    "        self.pos_E = nn.Embedding((img_size//patch_size)**2, dim) # positional embedding matrix\n",
    "\n",
    "        self.cls_token = nn.Parameter(torch.randn(1, 1, dim)) # learned class embedding\n",
    "        self.transformer = Transformer(\n",
    "            dim=dim, attn_dim=attn_dim, mlp_dim=mlp_dim, num_heads=num_heads, num_layers=num_layers)\n",
    "\n",
    "        self.head = nn.Sequential(\n",
    "            nn.LayerNorm(dim),\n",
    "            nn.Linear(dim, nout)\n",
    "        )\n",
    "\n",
    "    def forward(self, img: torch.Tensor, return_attn=False) ->Tuple[torch.Tensor, Optional[torch.Tensor]]:\n",
    "        # img          the input image. shape: (B, nin, img_size, img_size)\n",
    "        # return_attn  whether to return the attention alphas\n",
    "        #\n",
    "        # Outputs\n",
    "        # out          the output of the vision transformer. shape: (B, nout)\n",
    "        # alphas       the attention weights for all heads and layers. None if return_attn is False, otherwise\n",
    "        #              shape: (B, num_layers, num_heads, num_patches + 1, num_patches + 1)\n",
    "\n",
    "        # generate embeddings\n",
    "        embs = self.patch_embed(img) # patch embedding\n",
    "        B, T, _ = embs.shape\n",
    "        pos_ids = torch.arange(T).expand(B, -1).to(embs.device)\n",
    "        embs += self.pos_E(pos_ids) # positional embedding\n",
    "\n",
    "        cls_token = self.cls_token.expand(len(embs), -1, -1)\n",
    "        x = torch.cat([cls_token, embs], dim=1)\n",
    "\n",
    "        x, alphas = self.transformer(x, attn_mask=None, return_attn=return_attn)\n",
    "        out = self.head(x)[:, 0]\n",
    "        return out, alphas\n",
    "\n"
   ]
  },
  {
   "cell_type": "code",
   "execution_count": 9,
   "metadata": {},
   "outputs": [],
   "source": [
    "\n",
    "# a utility for calculating running average\n",
    "class AverageMeter():\n",
    "    def __init__(self):\n",
    "        self.num = 0\n",
    "        self.tot = 0\n",
    "\n",
    "    def update(self, val: float, sz: float):\n",
    "        self.num += val*sz\n",
    "        self.tot += sz\n",
    "\n",
    "    def calculate(self) -> float:\n",
    "        return self.num/self.tot"
   ]
  },
  {
   "cell_type": "markdown",
   "metadata": {},
   "source": [
    "# Training and Testing w/ CIFAR10"
   ]
  },
  {
   "cell_type": "code",
   "execution_count": 10,
   "metadata": {},
   "outputs": [
    {
     "name": "stdout",
     "output_type": "stream",
     "text": [
      "Files already downloaded and verified\n"
     ]
    }
   ],
   "source": [
    "# set up the dataset and dataloader\n",
    "\n",
    "MEAN = [0.4914, 0.4822, 0.4465]\n",
    "STD = [0.2470, 0.2435, 0.2616]\n",
    "img_transform = transforms.Compose([\n",
    "    transforms.ToTensor(),\n",
    "    transforms.Normalize(mean=MEAN, std=STD),\n",
    "])\n",
    "inv_transform = transforms.Compose([\n",
    "    transforms.Normalize(\n",
    "        mean = [ 0., 0., 0. ],\n",
    "        std = 1/np.array(STD)),\n",
    "    transforms.Normalize(\n",
    "        mean = -np.array(MEAN),\n",
    "        std = [ 1., 1., 1. ]),\n",
    "    transforms.ToPILImage(),\n",
    "])\n",
    "\n",
    "\n",
    "train_dataset = torchvision.datasets.CIFAR10(train=True, root='data', transform=img_transform, download=True)\n",
    "val_dataset = torchvision.datasets.CIFAR10(train=False, root='data', transform=img_transform)\n",
    "train_dataloader = torch.utils.data.DataLoader(train_dataset, batch_size=256, shuffle=True, num_workers=4)\n",
    "val_dataloader = torch.utils.data.DataLoader(val_dataset, batch_size=256, shuffle=False, num_workers=4)"
   ]
  },
  {
   "cell_type": "code",
   "execution_count": 12,
   "metadata": {},
   "outputs": [],
   "source": [
    "# set up the model and optimizer\n",
    "\n",
    "import torch.optim as optim\n",
    "\n",
    "model = VisionTransformer(n_channels=3, nout=10, img_size=32, patch_size=4,\n",
    "                          dim=128, attn_dim=64, mlp_dim=128, num_heads=3, num_layers=6).cuda()\n",
    "\n",
    "criterion = nn.CrossEntropyLoss()\n",
    "\n",
    "\n",
    "NUM_EPOCHS = 100\n",
    "optimizer = optim.AdamW(model.parameters(), lr=0.001)\n",
    "scheduler = optim.lr_scheduler.CosineAnnealingLR(optimizer, T_max=NUM_EPOCHS)\n",
    "\n"
   ]
  },
  {
   "cell_type": "code",
   "execution_count": 13,
   "metadata": {},
   "outputs": [],
   "source": [
    "def evaluate_cifar_model(model, criterion, val_loader):\n",
    "    is_train = model.training\n",
    "    model.eval()\n",
    "    with torch.no_grad():\n",
    "        loss_meter, acc_meter = AverageMeter(), AverageMeter()\n",
    "        for img, labels in val_loader:\n",
    "            img, labels = img.cuda(), labels.cuda()\n",
    "            outputs, _ = model(img)\n",
    "            loss_meter.update(criterion(outputs, labels).item(), len(img))\n",
    "            acc = (outputs.argmax(-1) == labels).float().mean().item()\n",
    "            acc_meter.update(acc, len(img))\n",
    "    model.train(is_train)\n",
    "    return loss_meter.calculate(), acc_meter.calculate()"
   ]
  },
  {
   "cell_type": "code",
   "execution_count": 14,
   "metadata": {},
   "outputs": [
    {
     "name": "stderr",
     "output_type": "stream",
     "text": [
      "100%|██████████| 196/196 [00:18<00:00, 10.87it/s]"
     ]
    },
    {
     "name": "stdout",
     "output_type": "stream",
     "text": [
      "Train Epoch: 0, Loss: 1.7360810871505736, Acc: 0.3744800000190735\n"
     ]
    },
    {
     "name": "stderr",
     "output_type": "stream",
     "text": [
      "\n"
     ]
    },
    {
     "name": "stdout",
     "output_type": "stream",
     "text": [
      "Val Epoch: 0, Loss: 1.5102790382385254, Acc: 0.4587\n"
     ]
    },
    {
     "name": "stderr",
     "output_type": "stream",
     "text": [
      "100%|██████████| 196/196 [00:10<00:00, 18.82it/s]\n"
     ]
    },
    {
     "name": "stdout",
     "output_type": "stream",
     "text": [
      "Train Epoch: 1, Loss: 1.4749318881988525, Acc: 0.47291999999046325\n"
     ]
    },
    {
     "name": "stderr",
     "output_type": "stream",
     "text": [
      "100%|██████████| 196/196 [00:10<00:00, 18.69it/s]\n"
     ]
    },
    {
     "name": "stdout",
     "output_type": "stream",
     "text": [
      "Train Epoch: 2, Loss: 1.373163929977417, Acc: 0.5113799999904632\n"
     ]
    },
    {
     "name": "stderr",
     "output_type": "stream",
     "text": [
      "100%|██████████| 196/196 [00:10<00:00, 18.60it/s]\n"
     ]
    },
    {
     "name": "stdout",
     "output_type": "stream",
     "text": [
      "Train Epoch: 3, Loss: 1.2988834776306153, Acc: 0.5361400000572205\n"
     ]
    },
    {
     "name": "stderr",
     "output_type": "stream",
     "text": [
      "100%|██████████| 196/196 [00:10<00:00, 18.60it/s]\n"
     ]
    },
    {
     "name": "stdout",
     "output_type": "stream",
     "text": [
      "Train Epoch: 4, Loss: 1.2419255861282348, Acc: 0.559100000038147\n"
     ]
    },
    {
     "name": "stderr",
     "output_type": "stream",
     "text": [
      "100%|██████████| 196/196 [00:10<00:00, 18.82it/s]\n"
     ]
    },
    {
     "name": "stdout",
     "output_type": "stream",
     "text": [
      "Train Epoch: 5, Loss: 1.1904099437713622, Acc: 0.575660000038147\n"
     ]
    },
    {
     "name": "stderr",
     "output_type": "stream",
     "text": [
      "100%|██████████| 196/196 [00:10<00:00, 18.81it/s]\n"
     ]
    },
    {
     "name": "stdout",
     "output_type": "stream",
     "text": [
      "Train Epoch: 6, Loss: 1.1571373138427734, Acc: 0.5878200000190735\n"
     ]
    },
    {
     "name": "stderr",
     "output_type": "stream",
     "text": [
      "100%|██████████| 196/196 [00:10<00:00, 18.85it/s]\n"
     ]
    },
    {
     "name": "stdout",
     "output_type": "stream",
     "text": [
      "Train Epoch: 7, Loss: 1.1606472498703002, Acc: 0.58544\n"
     ]
    },
    {
     "name": "stderr",
     "output_type": "stream",
     "text": [
      "100%|██████████| 196/196 [00:10<00:00, 18.61it/s]\n"
     ]
    },
    {
     "name": "stdout",
     "output_type": "stream",
     "text": [
      "Train Epoch: 8, Loss: 1.094553119392395, Acc: 0.6110999999809266\n"
     ]
    },
    {
     "name": "stderr",
     "output_type": "stream",
     "text": [
      "100%|██████████| 196/196 [00:10<00:00, 18.59it/s]\n"
     ]
    },
    {
     "name": "stdout",
     "output_type": "stream",
     "text": [
      "Train Epoch: 9, Loss: 1.061771543598175, Acc: 0.6203000000190735\n"
     ]
    },
    {
     "name": "stderr",
     "output_type": "stream",
     "text": [
      "100%|██████████| 196/196 [00:10<00:00, 18.77it/s]"
     ]
    },
    {
     "name": "stdout",
     "output_type": "stream",
     "text": [
      "Train Epoch: 10, Loss: 1.0312255288505554, Acc: 0.6330800000190735\n"
     ]
    },
    {
     "name": "stderr",
     "output_type": "stream",
     "text": [
      "\n"
     ]
    },
    {
     "name": "stdout",
     "output_type": "stream",
     "text": [
      "Val Epoch: 10, Loss: 1.2433982273101807, Acc: 0.563\n"
     ]
    },
    {
     "name": "stderr",
     "output_type": "stream",
     "text": [
      "100%|██████████| 196/196 [00:10<00:00, 18.88it/s]\n"
     ]
    },
    {
     "name": "stdout",
     "output_type": "stream",
     "text": [
      "Train Epoch: 11, Loss: 1.0531886195373534, Acc: 0.6233599999809265\n"
     ]
    },
    {
     "name": "stderr",
     "output_type": "stream",
     "text": [
      "100%|██████████| 196/196 [00:10<00:00, 18.93it/s]\n"
     ]
    },
    {
     "name": "stdout",
     "output_type": "stream",
     "text": [
      "Train Epoch: 12, Loss: 0.9798170141601562, Acc: 0.65238\n"
     ]
    },
    {
     "name": "stderr",
     "output_type": "stream",
     "text": [
      "100%|██████████| 196/196 [00:10<00:00, 18.41it/s]\n"
     ]
    },
    {
     "name": "stdout",
     "output_type": "stream",
     "text": [
      "Train Epoch: 13, Loss: 0.9478683908081055, Acc: 0.663340000038147\n"
     ]
    },
    {
     "name": "stderr",
     "output_type": "stream",
     "text": [
      "100%|██████████| 196/196 [00:10<00:00, 18.80it/s]\n"
     ]
    },
    {
     "name": "stdout",
     "output_type": "stream",
     "text": [
      "Train Epoch: 14, Loss: 2.29164410736084, Acc: 0.13200000001430512\n"
     ]
    },
    {
     "name": "stderr",
     "output_type": "stream",
     "text": [
      "100%|██████████| 196/196 [00:10<00:00, 18.72it/s]\n"
     ]
    },
    {
     "name": "stdout",
     "output_type": "stream",
     "text": [
      "Train Epoch: 15, Loss: 2.305662038269043, Acc: 0.10512000000238418\n"
     ]
    },
    {
     "name": "stderr",
     "output_type": "stream",
     "text": [
      "100%|██████████| 196/196 [00:10<00:00, 18.79it/s]\n"
     ]
    },
    {
     "name": "stdout",
     "output_type": "stream",
     "text": [
      "Train Epoch: 16, Loss: 2.3017796621704103, Acc: 0.10598000000953674\n"
     ]
    },
    {
     "name": "stderr",
     "output_type": "stream",
     "text": [
      "100%|██████████| 196/196 [00:10<00:00, 18.46it/s]\n"
     ]
    },
    {
     "name": "stdout",
     "output_type": "stream",
     "text": [
      "Train Epoch: 17, Loss: 2.308221680755615, Acc: 0.10680000000238418\n"
     ]
    },
    {
     "name": "stderr",
     "output_type": "stream",
     "text": [
      "100%|██████████| 196/196 [00:10<00:00, 18.51it/s]\n"
     ]
    },
    {
     "name": "stdout",
     "output_type": "stream",
     "text": [
      "Train Epoch: 18, Loss: 2.2995930306243895, Acc: 0.11374000000476837\n"
     ]
    },
    {
     "name": "stderr",
     "output_type": "stream",
     "text": [
      "100%|██████████| 196/196 [00:10<00:00, 18.66it/s]\n"
     ]
    },
    {
     "name": "stdout",
     "output_type": "stream",
     "text": [
      "Train Epoch: 19, Loss: 2.299811332168579, Acc: 0.12306\n"
     ]
    },
    {
     "name": "stderr",
     "output_type": "stream",
     "text": [
      "100%|██████████| 196/196 [00:10<00:00, 18.67it/s]"
     ]
    },
    {
     "name": "stdout",
     "output_type": "stream",
     "text": [
      "Train Epoch: 20, Loss: 2.298435726699829, Acc: 0.1195\n"
     ]
    },
    {
     "name": "stderr",
     "output_type": "stream",
     "text": [
      "\n"
     ]
    },
    {
     "name": "stdout",
     "output_type": "stream",
     "text": [
      "Val Epoch: 20, Loss: 2.2853541477203367, Acc: 0.1472\n"
     ]
    },
    {
     "name": "stderr",
     "output_type": "stream",
     "text": [
      "100%|██████████| 196/196 [00:10<00:00, 18.74it/s]\n"
     ]
    },
    {
     "name": "stdout",
     "output_type": "stream",
     "text": [
      "Train Epoch: 21, Loss: 2.2849179445648193, Acc: 0.13118\n"
     ]
    },
    {
     "name": "stderr",
     "output_type": "stream",
     "text": [
      "100%|██████████| 196/196 [00:10<00:00, 18.59it/s]\n"
     ]
    },
    {
     "name": "stdout",
     "output_type": "stream",
     "text": [
      "Train Epoch: 22, Loss: 2.282843515853882, Acc: 0.13386000000715256\n"
     ]
    },
    {
     "name": "stderr",
     "output_type": "stream",
     "text": [
      "100%|██████████| 196/196 [00:10<00:00, 18.63it/s]\n"
     ]
    },
    {
     "name": "stdout",
     "output_type": "stream",
     "text": [
      "Train Epoch: 23, Loss: 2.2984779766082766, Acc: 0.11682000000715256\n"
     ]
    },
    {
     "name": "stderr",
     "output_type": "stream",
     "text": [
      "100%|██████████| 196/196 [00:10<00:00, 18.59it/s]\n"
     ]
    },
    {
     "name": "stdout",
     "output_type": "stream",
     "text": [
      "Train Epoch: 24, Loss: 2.2865295835876465, Acc: 0.13248000000715257\n"
     ]
    },
    {
     "name": "stderr",
     "output_type": "stream",
     "text": [
      "100%|██████████| 196/196 [00:10<00:00, 18.74it/s]\n"
     ]
    },
    {
     "name": "stdout",
     "output_type": "stream",
     "text": [
      "Train Epoch: 25, Loss: 2.3029406009674074, Acc: 0.12236000001430511\n"
     ]
    },
    {
     "name": "stderr",
     "output_type": "stream",
     "text": [
      "100%|██████████| 196/196 [00:10<00:00, 18.67it/s]\n"
     ]
    },
    {
     "name": "stdout",
     "output_type": "stream",
     "text": [
      "Train Epoch: 26, Loss: 2.2982129136657714, Acc: 0.12046000000715255\n"
     ]
    },
    {
     "name": "stderr",
     "output_type": "stream",
     "text": [
      "100%|██████████| 196/196 [00:10<00:00, 18.61it/s]\n"
     ]
    },
    {
     "name": "stdout",
     "output_type": "stream",
     "text": [
      "Train Epoch: 27, Loss: 2.299991404953003, Acc: 0.11860000000715255\n"
     ]
    },
    {
     "name": "stderr",
     "output_type": "stream",
     "text": [
      "100%|██████████| 196/196 [00:10<00:00, 18.73it/s]\n"
     ]
    },
    {
     "name": "stdout",
     "output_type": "stream",
     "text": [
      "Train Epoch: 28, Loss: 2.2766525968933107, Acc: 0.13684000000953675\n"
     ]
    },
    {
     "name": "stderr",
     "output_type": "stream",
     "text": [
      "100%|██████████| 196/196 [00:10<00:00, 18.69it/s]\n"
     ]
    },
    {
     "name": "stdout",
     "output_type": "stream",
     "text": [
      "Train Epoch: 29, Loss: 2.3086236506652833, Acc: 0.11038000000476837\n"
     ]
    },
    {
     "name": "stderr",
     "output_type": "stream",
     "text": [
      "100%|██████████| 196/196 [00:10<00:00, 18.49it/s]"
     ]
    },
    {
     "name": "stdout",
     "output_type": "stream",
     "text": [
      "Train Epoch: 30, Loss: 2.311433843002319, Acc: 0.11148000000476838\n"
     ]
    },
    {
     "name": "stderr",
     "output_type": "stream",
     "text": [
      "\n"
     ]
    },
    {
     "name": "stdout",
     "output_type": "stream",
     "text": [
      "Val Epoch: 30, Loss: 2.302173293304443, Acc: 0.1081\n"
     ]
    },
    {
     "name": "stderr",
     "output_type": "stream",
     "text": [
      "100%|██████████| 196/196 [00:10<00:00, 18.68it/s]\n"
     ]
    },
    {
     "name": "stdout",
     "output_type": "stream",
     "text": [
      "Train Epoch: 31, Loss: 2.3043723461151124, Acc: 0.10824000000238418\n"
     ]
    },
    {
     "name": "stderr",
     "output_type": "stream",
     "text": [
      "100%|██████████| 196/196 [00:10<00:00, 18.61it/s]\n"
     ]
    },
    {
     "name": "stdout",
     "output_type": "stream",
     "text": [
      "Train Epoch: 32, Loss: 2.29904193649292, Acc: 0.1124\n"
     ]
    },
    {
     "name": "stderr",
     "output_type": "stream",
     "text": [
      "100%|██████████| 196/196 [00:10<00:00, 18.71it/s]\n"
     ]
    },
    {
     "name": "stdout",
     "output_type": "stream",
     "text": [
      "Train Epoch: 33, Loss: 2.300428465881348, Acc: 0.11192000000476837\n"
     ]
    },
    {
     "name": "stderr",
     "output_type": "stream",
     "text": [
      "100%|██████████| 196/196 [00:10<00:00, 18.72it/s]\n"
     ]
    },
    {
     "name": "stdout",
     "output_type": "stream",
     "text": [
      "Train Epoch: 34, Loss: 2.30206118888855, Acc: 0.10776000000476837\n"
     ]
    },
    {
     "name": "stderr",
     "output_type": "stream",
     "text": [
      "100%|██████████| 196/196 [00:10<00:00, 18.58it/s]\n"
     ]
    },
    {
     "name": "stdout",
     "output_type": "stream",
     "text": [
      "Train Epoch: 35, Loss: 2.2984151988220214, Acc: 0.11370000000715255\n"
     ]
    },
    {
     "name": "stderr",
     "output_type": "stream",
     "text": [
      "100%|██████████| 196/196 [00:10<00:00, 18.76it/s]\n"
     ]
    },
    {
     "name": "stdout",
     "output_type": "stream",
     "text": [
      "Train Epoch: 36, Loss: 2.284206725540161, Acc: 0.13222000001430512\n"
     ]
    },
    {
     "name": "stderr",
     "output_type": "stream",
     "text": [
      "100%|██████████| 196/196 [00:10<00:00, 18.68it/s]\n"
     ]
    },
    {
     "name": "stdout",
     "output_type": "stream",
     "text": [
      "Train Epoch: 37, Loss: 2.2859817710876467, Acc: 0.12959999999523164\n"
     ]
    },
    {
     "name": "stderr",
     "output_type": "stream",
     "text": [
      "100%|██████████| 196/196 [00:10<00:00, 18.66it/s]\n"
     ]
    },
    {
     "name": "stdout",
     "output_type": "stream",
     "text": [
      "Train Epoch: 38, Loss: 2.290014093093872, Acc: 0.12750000000476838\n"
     ]
    },
    {
     "name": "stderr",
     "output_type": "stream",
     "text": [
      "100%|██████████| 196/196 [00:10<00:00, 18.78it/s]\n"
     ]
    },
    {
     "name": "stdout",
     "output_type": "stream",
     "text": [
      "Train Epoch: 39, Loss: 2.2964499522399904, Acc: 0.11287999999761582\n"
     ]
    },
    {
     "name": "stderr",
     "output_type": "stream",
     "text": [
      "100%|██████████| 196/196 [00:10<00:00, 18.43it/s]"
     ]
    },
    {
     "name": "stdout",
     "output_type": "stream",
     "text": [
      "Train Epoch: 40, Loss: 2.2952667624664307, Acc: 0.11854000001430512\n"
     ]
    },
    {
     "name": "stderr",
     "output_type": "stream",
     "text": [
      "\n"
     ]
    },
    {
     "name": "stdout",
     "output_type": "stream",
     "text": [
      "Val Epoch: 40, Loss: 2.2951974517822267, Acc: 0.1093\n"
     ]
    },
    {
     "name": "stderr",
     "output_type": "stream",
     "text": [
      "100%|██████████| 196/196 [00:10<00:00, 18.55it/s]\n"
     ]
    },
    {
     "name": "stdout",
     "output_type": "stream",
     "text": [
      "Train Epoch: 41, Loss: 2.2948820363616944, Acc: 0.11812000000715256\n"
     ]
    },
    {
     "name": "stderr",
     "output_type": "stream",
     "text": [
      "100%|██████████| 196/196 [00:10<00:00, 18.55it/s]\n"
     ]
    },
    {
     "name": "stdout",
     "output_type": "stream",
     "text": [
      "Train Epoch: 42, Loss: 2.2996790559387206, Acc: 0.11346000000715256\n"
     ]
    },
    {
     "name": "stderr",
     "output_type": "stream",
     "text": [
      "100%|██████████| 196/196 [00:10<00:00, 18.72it/s]\n"
     ]
    },
    {
     "name": "stdout",
     "output_type": "stream",
     "text": [
      "Train Epoch: 43, Loss: 2.300399686508179, Acc: 0.10934000000715256\n"
     ]
    },
    {
     "name": "stderr",
     "output_type": "stream",
     "text": [
      "100%|██████████| 196/196 [00:10<00:00, 18.77it/s]\n"
     ]
    },
    {
     "name": "stdout",
     "output_type": "stream",
     "text": [
      "Train Epoch: 44, Loss: 2.3018237773895263, Acc: 0.10902000000476837\n"
     ]
    },
    {
     "name": "stderr",
     "output_type": "stream",
     "text": [
      "100%|██████████| 196/196 [00:10<00:00, 18.59it/s]\n"
     ]
    },
    {
     "name": "stdout",
     "output_type": "stream",
     "text": [
      "Train Epoch: 45, Loss: 2.2955358500671386, Acc: 0.11768000000238418\n"
     ]
    },
    {
     "name": "stderr",
     "output_type": "stream",
     "text": [
      "100%|██████████| 196/196 [00:10<00:00, 18.71it/s]\n"
     ]
    },
    {
     "name": "stdout",
     "output_type": "stream",
     "text": [
      "Train Epoch: 46, Loss: 2.2950464686584473, Acc: 0.11662000000238419\n"
     ]
    },
    {
     "name": "stderr",
     "output_type": "stream",
     "text": [
      "100%|██████████| 196/196 [00:10<00:00, 18.51it/s]\n"
     ]
    },
    {
     "name": "stdout",
     "output_type": "stream",
     "text": [
      "Train Epoch: 47, Loss: 2.2872448136901857, Acc: 0.12872000000476838\n"
     ]
    },
    {
     "name": "stderr",
     "output_type": "stream",
     "text": [
      "100%|██████████| 196/196 [00:10<00:00, 18.65it/s]\n"
     ]
    },
    {
     "name": "stdout",
     "output_type": "stream",
     "text": [
      "Train Epoch: 48, Loss: 2.286145498275757, Acc: 0.1272\n"
     ]
    },
    {
     "name": "stderr",
     "output_type": "stream",
     "text": [
      "100%|██████████| 196/196 [00:10<00:00, 18.39it/s]\n"
     ]
    },
    {
     "name": "stdout",
     "output_type": "stream",
     "text": [
      "Train Epoch: 49, Loss: 2.2860226679992675, Acc: 0.13220000000953674\n"
     ]
    },
    {
     "name": "stderr",
     "output_type": "stream",
     "text": [
      "100%|██████████| 196/196 [00:10<00:00, 18.60it/s]"
     ]
    },
    {
     "name": "stdout",
     "output_type": "stream",
     "text": [
      "Train Epoch: 50, Loss: 2.285373553543091, Acc: 0.13284000000476837\n"
     ]
    },
    {
     "name": "stderr",
     "output_type": "stream",
     "text": [
      "\n"
     ]
    },
    {
     "name": "stdout",
     "output_type": "stream",
     "text": [
      "Val Epoch: 50, Loss: 2.2850142253875734, Acc: 0.1346\n"
     ]
    },
    {
     "name": "stderr",
     "output_type": "stream",
     "text": [
      "100%|██████████| 196/196 [00:10<00:00, 18.23it/s]\n"
     ]
    },
    {
     "name": "stdout",
     "output_type": "stream",
     "text": [
      "Train Epoch: 51, Loss: 2.2851381206512453, Acc: 0.13102000000238417\n"
     ]
    },
    {
     "name": "stderr",
     "output_type": "stream",
     "text": [
      "100%|██████████| 196/196 [00:10<00:00, 18.59it/s]\n"
     ]
    },
    {
     "name": "stdout",
     "output_type": "stream",
     "text": [
      "Train Epoch: 52, Loss: 2.2853252909851074, Acc: 0.13336000001430512\n"
     ]
    },
    {
     "name": "stderr",
     "output_type": "stream",
     "text": [
      "100%|██████████| 196/196 [00:10<00:00, 18.58it/s]\n"
     ]
    },
    {
     "name": "stdout",
     "output_type": "stream",
     "text": [
      "Train Epoch: 53, Loss: 2.28553620010376, Acc: 0.13343999999761583\n"
     ]
    },
    {
     "name": "stderr",
     "output_type": "stream",
     "text": [
      "100%|██████████| 196/196 [00:10<00:00, 18.73it/s]\n"
     ]
    },
    {
     "name": "stdout",
     "output_type": "stream",
     "text": [
      "Train Epoch: 54, Loss: 2.284704485473633, Acc: 0.13374000000238417\n"
     ]
    },
    {
     "name": "stderr",
     "output_type": "stream",
     "text": [
      "100%|██████████| 196/196 [00:10<00:00, 18.75it/s]\n"
     ]
    },
    {
     "name": "stdout",
     "output_type": "stream",
     "text": [
      "Train Epoch: 55, Loss: 2.2850527838897703, Acc: 0.1336000000143051\n"
     ]
    },
    {
     "name": "stderr",
     "output_type": "stream",
     "text": [
      "100%|██████████| 196/196 [00:10<00:00, 18.44it/s]\n"
     ]
    },
    {
     "name": "stdout",
     "output_type": "stream",
     "text": [
      "Train Epoch: 56, Loss: 2.28500916305542, Acc: 0.1326\n"
     ]
    },
    {
     "name": "stderr",
     "output_type": "stream",
     "text": [
      "100%|██████████| 196/196 [00:10<00:00, 18.63it/s]\n"
     ]
    },
    {
     "name": "stdout",
     "output_type": "stream",
     "text": [
      "Train Epoch: 57, Loss: 2.285015517578125, Acc: 0.13422\n"
     ]
    },
    {
     "name": "stderr",
     "output_type": "stream",
     "text": [
      "100%|██████████| 196/196 [00:10<00:00, 18.73it/s]\n"
     ]
    },
    {
     "name": "stdout",
     "output_type": "stream",
     "text": [
      "Train Epoch: 58, Loss: 2.284448709869385, Acc: 0.1315200000143051\n"
     ]
    },
    {
     "name": "stderr",
     "output_type": "stream",
     "text": [
      "100%|██████████| 196/196 [00:10<00:00, 18.45it/s]\n"
     ]
    },
    {
     "name": "stdout",
     "output_type": "stream",
     "text": [
      "Train Epoch: 59, Loss: 2.2843938948822022, Acc: 0.13176000000476837\n"
     ]
    },
    {
     "name": "stderr",
     "output_type": "stream",
     "text": [
      "100%|██████████| 196/196 [00:10<00:00, 18.73it/s]"
     ]
    },
    {
     "name": "stdout",
     "output_type": "stream",
     "text": [
      "Train Epoch: 60, Loss: 2.284666485748291, Acc: 0.1346800000023842\n"
     ]
    },
    {
     "name": "stderr",
     "output_type": "stream",
     "text": [
      "\n"
     ]
    },
    {
     "name": "stdout",
     "output_type": "stream",
     "text": [
      "Val Epoch: 60, Loss: 2.282994328689575, Acc: 0.1303\n"
     ]
    },
    {
     "name": "stderr",
     "output_type": "stream",
     "text": [
      "100%|██████████| 196/196 [00:10<00:00, 18.66it/s]\n"
     ]
    },
    {
     "name": "stdout",
     "output_type": "stream",
     "text": [
      "Train Epoch: 61, Loss: 2.2840104804992674, Acc: 0.1306999999976158\n"
     ]
    },
    {
     "name": "stderr",
     "output_type": "stream",
     "text": [
      "100%|██████████| 196/196 [00:10<00:00, 18.36it/s]\n"
     ]
    },
    {
     "name": "stdout",
     "output_type": "stream",
     "text": [
      "Train Epoch: 62, Loss: 2.2840244816589355, Acc: 0.1336800000023842\n"
     ]
    },
    {
     "name": "stderr",
     "output_type": "stream",
     "text": [
      "100%|██████████| 196/196 [00:10<00:00, 18.71it/s]\n"
     ]
    },
    {
     "name": "stdout",
     "output_type": "stream",
     "text": [
      "Train Epoch: 63, Loss: 2.284267661743164, Acc: 0.132\n"
     ]
    },
    {
     "name": "stderr",
     "output_type": "stream",
     "text": [
      "100%|██████████| 196/196 [00:10<00:00, 18.65it/s]\n"
     ]
    },
    {
     "name": "stdout",
     "output_type": "stream",
     "text": [
      "Train Epoch: 64, Loss: 2.2843896112060547, Acc: 0.13056\n"
     ]
    },
    {
     "name": "stderr",
     "output_type": "stream",
     "text": [
      "100%|██████████| 196/196 [00:10<00:00, 18.55it/s]\n"
     ]
    },
    {
     "name": "stdout",
     "output_type": "stream",
     "text": [
      "Train Epoch: 65, Loss: 2.2838390074157715, Acc: 0.13401999999761582\n"
     ]
    },
    {
     "name": "stderr",
     "output_type": "stream",
     "text": [
      "100%|██████████| 196/196 [00:10<00:00, 18.56it/s]\n"
     ]
    },
    {
     "name": "stdout",
     "output_type": "stream",
     "text": [
      "Train Epoch: 66, Loss: 2.2840219469451903, Acc: 0.13538000000476838\n"
     ]
    },
    {
     "name": "stderr",
     "output_type": "stream",
     "text": [
      "100%|██████████| 196/196 [00:10<00:00, 18.72it/s]\n"
     ]
    },
    {
     "name": "stdout",
     "output_type": "stream",
     "text": [
      "Train Epoch: 67, Loss: 2.283694675064087, Acc: 0.13454000000715255\n"
     ]
    },
    {
     "name": "stderr",
     "output_type": "stream",
     "text": [
      "100%|██████████| 196/196 [00:10<00:00, 18.72it/s]\n"
     ]
    },
    {
     "name": "stdout",
     "output_type": "stream",
     "text": [
      "Train Epoch: 68, Loss: 2.2838070893859865, Acc: 0.1361800000143051\n"
     ]
    },
    {
     "name": "stderr",
     "output_type": "stream",
     "text": [
      "100%|██████████| 196/196 [00:10<00:00, 18.63it/s]\n"
     ]
    },
    {
     "name": "stdout",
     "output_type": "stream",
     "text": [
      "Train Epoch: 69, Loss: 2.2833184131622315, Acc: 0.13491999999523163\n"
     ]
    },
    {
     "name": "stderr",
     "output_type": "stream",
     "text": [
      "100%|██████████| 196/196 [00:10<00:00, 18.70it/s]"
     ]
    },
    {
     "name": "stdout",
     "output_type": "stream",
     "text": [
      "Train Epoch: 70, Loss: 2.283613144226074, Acc: 0.13390000000476837\n"
     ]
    },
    {
     "name": "stderr",
     "output_type": "stream",
     "text": [
      "\n"
     ]
    },
    {
     "name": "stdout",
     "output_type": "stream",
     "text": [
      "Val Epoch: 70, Loss: 2.2824528305053713, Acc: 0.1311\n"
     ]
    },
    {
     "name": "stderr",
     "output_type": "stream",
     "text": [
      "100%|██████████| 196/196 [00:10<00:00, 18.40it/s]\n"
     ]
    },
    {
     "name": "stdout",
     "output_type": "stream",
     "text": [
      "Train Epoch: 71, Loss: 2.283255284805298, Acc: 0.13465999999761583\n"
     ]
    },
    {
     "name": "stderr",
     "output_type": "stream",
     "text": [
      "100%|██████████| 196/196 [00:10<00:00, 18.71it/s]\n"
     ]
    },
    {
     "name": "stdout",
     "output_type": "stream",
     "text": [
      "Train Epoch: 72, Loss: 2.28303085105896, Acc: 0.13350000000476836\n"
     ]
    },
    {
     "name": "stderr",
     "output_type": "stream",
     "text": [
      "100%|██████████| 196/196 [00:10<00:00, 18.65it/s]\n"
     ]
    },
    {
     "name": "stdout",
     "output_type": "stream",
     "text": [
      "Train Epoch: 73, Loss: 2.2833414752197267, Acc: 0.13472000000476836\n"
     ]
    },
    {
     "name": "stderr",
     "output_type": "stream",
     "text": [
      "100%|██████████| 196/196 [00:10<00:00, 18.32it/s]\n"
     ]
    },
    {
     "name": "stdout",
     "output_type": "stream",
     "text": [
      "Train Epoch: 74, Loss: 2.2833870498657225, Acc: 0.13380000000476838\n"
     ]
    },
    {
     "name": "stderr",
     "output_type": "stream",
     "text": [
      "100%|██████████| 196/196 [00:10<00:00, 18.59it/s]\n"
     ]
    },
    {
     "name": "stdout",
     "output_type": "stream",
     "text": [
      "Train Epoch: 75, Loss: 2.2834546491241454, Acc: 0.1343\n"
     ]
    },
    {
     "name": "stderr",
     "output_type": "stream",
     "text": [
      "100%|██████████| 196/196 [00:10<00:00, 18.84it/s]\n"
     ]
    },
    {
     "name": "stdout",
     "output_type": "stream",
     "text": [
      "Train Epoch: 76, Loss: 2.283338583984375, Acc: 0.13492000000953674\n"
     ]
    },
    {
     "name": "stderr",
     "output_type": "stream",
     "text": [
      "100%|██████████| 196/196 [00:10<00:00, 18.69it/s]\n"
     ]
    },
    {
     "name": "stdout",
     "output_type": "stream",
     "text": [
      "Train Epoch: 77, Loss: 2.2831697595977785, Acc: 0.13372\n"
     ]
    },
    {
     "name": "stderr",
     "output_type": "stream",
     "text": [
      "100%|██████████| 196/196 [00:10<00:00, 18.72it/s]\n"
     ]
    },
    {
     "name": "stdout",
     "output_type": "stream",
     "text": [
      "Train Epoch: 78, Loss: 2.2832963793945313, Acc: 0.13644\n"
     ]
    },
    {
     "name": "stderr",
     "output_type": "stream",
     "text": [
      "100%|██████████| 196/196 [00:10<00:00, 18.66it/s]\n"
     ]
    },
    {
     "name": "stdout",
     "output_type": "stream",
     "text": [
      "Train Epoch: 79, Loss: 2.282858510055542, Acc: 0.13422000000953674\n"
     ]
    },
    {
     "name": "stderr",
     "output_type": "stream",
     "text": [
      "100%|██████████| 196/196 [00:10<00:00, 18.58it/s]"
     ]
    },
    {
     "name": "stdout",
     "output_type": "stream",
     "text": [
      "Train Epoch: 80, Loss: 2.2829096764373777, Acc: 0.1357000000023842\n"
     ]
    },
    {
     "name": "stderr",
     "output_type": "stream",
     "text": [
      "\n"
     ]
    },
    {
     "name": "stdout",
     "output_type": "stream",
     "text": [
      "Val Epoch: 80, Loss: 2.280892468261719, Acc: 0.1347\n"
     ]
    },
    {
     "name": "stderr",
     "output_type": "stream",
     "text": [
      "100%|██████████| 196/196 [00:10<00:00, 18.51it/s]\n"
     ]
    },
    {
     "name": "stdout",
     "output_type": "stream",
     "text": [
      "Train Epoch: 81, Loss: 2.283102577896118, Acc: 0.13562\n"
     ]
    },
    {
     "name": "stderr",
     "output_type": "stream",
     "text": [
      "100%|██████████| 196/196 [00:10<00:00, 18.59it/s]\n"
     ]
    },
    {
     "name": "stdout",
     "output_type": "stream",
     "text": [
      "Train Epoch: 82, Loss: 2.282981783294678, Acc: 0.1364199999976158\n"
     ]
    },
    {
     "name": "stderr",
     "output_type": "stream",
     "text": [
      "100%|██████████| 196/196 [00:10<00:00, 18.53it/s]\n"
     ]
    },
    {
     "name": "stdout",
     "output_type": "stream",
     "text": [
      "Train Epoch: 83, Loss: 2.2830381493377687, Acc: 0.1376399999976158\n"
     ]
    },
    {
     "name": "stderr",
     "output_type": "stream",
     "text": [
      "100%|██████████| 196/196 [00:10<00:00, 18.42it/s]\n"
     ]
    },
    {
     "name": "stdout",
     "output_type": "stream",
     "text": [
      "Train Epoch: 84, Loss: 2.2832194966125487, Acc: 0.13422000001430512\n"
     ]
    },
    {
     "name": "stderr",
     "output_type": "stream",
     "text": [
      "100%|██████████| 196/196 [00:10<00:00, 18.61it/s]\n"
     ]
    },
    {
     "name": "stdout",
     "output_type": "stream",
     "text": [
      "Train Epoch: 85, Loss: 2.2830359344482423, Acc: 0.13633999999523164\n"
     ]
    },
    {
     "name": "stderr",
     "output_type": "stream",
     "text": [
      "100%|██████████| 196/196 [00:10<00:00, 18.67it/s]\n"
     ]
    },
    {
     "name": "stdout",
     "output_type": "stream",
     "text": [
      "Train Epoch: 86, Loss: 2.28282505569458, Acc: 0.13514000001430512\n"
     ]
    },
    {
     "name": "stderr",
     "output_type": "stream",
     "text": [
      "100%|██████████| 196/196 [00:10<00:00, 18.73it/s]\n"
     ]
    },
    {
     "name": "stdout",
     "output_type": "stream",
     "text": [
      "Train Epoch: 87, Loss: 2.2830336223602297, Acc: 0.1366800000143051\n"
     ]
    },
    {
     "name": "stderr",
     "output_type": "stream",
     "text": [
      "100%|██████████| 196/196 [00:10<00:00, 18.58it/s]\n"
     ]
    },
    {
     "name": "stdout",
     "output_type": "stream",
     "text": [
      "Train Epoch: 88, Loss: 2.282862596282959, Acc: 0.1372400000143051\n"
     ]
    },
    {
     "name": "stderr",
     "output_type": "stream",
     "text": [
      "100%|██████████| 196/196 [00:10<00:00, 18.67it/s]\n"
     ]
    },
    {
     "name": "stdout",
     "output_type": "stream",
     "text": [
      "Train Epoch: 89, Loss: 2.283224697570801, Acc: 0.13550000000476836\n"
     ]
    },
    {
     "name": "stderr",
     "output_type": "stream",
     "text": [
      "100%|██████████| 196/196 [00:10<00:00, 18.47it/s]"
     ]
    },
    {
     "name": "stdout",
     "output_type": "stream",
     "text": [
      "Train Epoch: 90, Loss: 2.2829603485870362, Acc: 0.13644000000715256\n"
     ]
    },
    {
     "name": "stderr",
     "output_type": "stream",
     "text": [
      "\n"
     ]
    },
    {
     "name": "stdout",
     "output_type": "stream",
     "text": [
      "Val Epoch: 90, Loss: 2.2816895343780517, Acc: 0.1341\n"
     ]
    },
    {
     "name": "stderr",
     "output_type": "stream",
     "text": [
      "100%|██████████| 196/196 [00:10<00:00, 18.66it/s]\n"
     ]
    },
    {
     "name": "stdout",
     "output_type": "stream",
     "text": [
      "Train Epoch: 91, Loss: 2.2828311769866945, Acc: 0.1362199999976158\n"
     ]
    },
    {
     "name": "stderr",
     "output_type": "stream",
     "text": [
      "100%|██████████| 196/196 [00:10<00:00, 18.61it/s]\n"
     ]
    },
    {
     "name": "stdout",
     "output_type": "stream",
     "text": [
      "Train Epoch: 92, Loss: 2.2828942594909667, Acc: 0.13724000000715256\n"
     ]
    },
    {
     "name": "stderr",
     "output_type": "stream",
     "text": [
      "100%|██████████| 196/196 [00:10<00:00, 18.63it/s]\n"
     ]
    },
    {
     "name": "stdout",
     "output_type": "stream",
     "text": [
      "Train Epoch: 93, Loss: 2.2829390634155273, Acc: 0.13770000000953675\n"
     ]
    },
    {
     "name": "stderr",
     "output_type": "stream",
     "text": [
      "100%|██████████| 196/196 [00:10<00:00, 18.59it/s]\n"
     ]
    },
    {
     "name": "stdout",
     "output_type": "stream",
     "text": [
      "Train Epoch: 94, Loss: 2.2829725260162355, Acc: 0.13834000000715255\n"
     ]
    },
    {
     "name": "stderr",
     "output_type": "stream",
     "text": [
      "100%|██████████| 196/196 [00:10<00:00, 18.53it/s]\n"
     ]
    },
    {
     "name": "stdout",
     "output_type": "stream",
     "text": [
      "Train Epoch: 95, Loss: 2.2831955434417726, Acc: 0.13816\n"
     ]
    },
    {
     "name": "stderr",
     "output_type": "stream",
     "text": [
      "100%|██████████| 196/196 [00:10<00:00, 18.48it/s]\n"
     ]
    },
    {
     "name": "stdout",
     "output_type": "stream",
     "text": [
      "Train Epoch: 96, Loss: 2.2829542694854736, Acc: 0.13784000000476837\n"
     ]
    },
    {
     "name": "stderr",
     "output_type": "stream",
     "text": [
      "100%|██████████| 196/196 [00:10<00:00, 18.54it/s]\n"
     ]
    },
    {
     "name": "stdout",
     "output_type": "stream",
     "text": [
      "Train Epoch: 97, Loss: 2.282839346923828, Acc: 0.1380400000143051\n"
     ]
    },
    {
     "name": "stderr",
     "output_type": "stream",
     "text": [
      "100%|██████████| 196/196 [00:10<00:00, 18.48it/s]\n"
     ]
    },
    {
     "name": "stdout",
     "output_type": "stream",
     "text": [
      "Train Epoch: 98, Loss: 2.2828545465087893, Acc: 0.13810000000953673\n"
     ]
    },
    {
     "name": "stderr",
     "output_type": "stream",
     "text": [
      "100%|██████████| 196/196 [00:10<00:00, 18.59it/s]"
     ]
    },
    {
     "name": "stdout",
     "output_type": "stream",
     "text": [
      "Train Epoch: 99, Loss: 2.282855720214844, Acc: 0.13788000000476838\n"
     ]
    },
    {
     "name": "stderr",
     "output_type": "stream",
     "text": [
      "\n"
     ]
    },
    {
     "name": "stdout",
     "output_type": "stream",
     "text": [
      "Val Epoch: 99, Loss: 2.2818898082733154, Acc: 0.1351\n",
      "Finished Training\n"
     ]
    }
   ],
   "source": [
    "# train the model\n",
    "import tqdm\n",
    "for epoch in range(NUM_EPOCHS):  #\n",
    "    loss_meter = AverageMeter()\n",
    "    acc_meter = AverageMeter()\n",
    "    for img, labels in tqdm.tqdm(train_dataloader):\n",
    "        img, labels = img.cuda(), labels.cuda()\n",
    "\n",
    "        optimizer.zero_grad()\n",
    "\n",
    "        outputs, _ = model(img)\n",
    "        loss = criterion(outputs, labels)\n",
    "        loss_meter.update(loss.item(), len(img))\n",
    "        acc = (outputs.argmax(-1) == labels).float().mean().item()\n",
    "        acc_meter.update(acc, len(img))\n",
    "        loss.backward()\n",
    "        optimizer.step()\n",
    "    scheduler.step()\n",
    "    print(f\"Train Epoch: {epoch}, Loss: {loss_meter.calculate()}, Acc: {acc_meter.calculate()}\")\n",
    "    if epoch % 10 == 0:\n",
    "        val_loss, val_acc = evaluate_cifar_model(model, criterion, val_dataloader)\n",
    "        print(f\"Val Epoch: {epoch}, Loss: {val_loss}, Acc: {val_acc}\")\n",
    "\n",
    "val_loss, val_acc = evaluate_cifar_model(model, criterion, val_dataloader)\n",
    "print(f\"Val Epoch: {epoch}, Loss: {val_loss}, Acc: {val_acc}\")\n",
    "print('Finished Training')"
   ]
  },
  {
   "cell_type": "code",
   "execution_count": 15,
   "metadata": {},
   "outputs": [
    {
     "data": {
      "image/png": "[encoded data removed]",
      "text/plain": [
       "<Figure size 1000x200 with 20 Axes>"
      ]
     },
     "metadata": {},
     "output_type": "display_data"
    }
   ],
   "source": [
    "for val_batch in val_dataloader:\n",
    "    break\n",
    "\n",
    "model.eval()\n",
    "with torch.no_grad():\n",
    "    img, labels = val_batch\n",
    "    img = img.cuda()\n",
    "    outputs, attns = model(img, return_attn=True)\n",
    "\n",
    "fig, ax = plt.subplots(2, 10, figsize=(10, 2))\n",
    "for i in range(10):\n",
    "    flattened_attns = attns.flatten(1,2)[:, :, 0, 1:].mean(1).reshape(-1, 8, 8).cpu().numpy()\n",
    "    ax[0, i].imshow(inv_transform(img[i]))\n",
    "    ax[1, i].imshow(flattened_attns[i])\n",
    "    ax[0, i].axis(False)\n",
    "    ax[1, i].axis(False)"
   ]
  },
  {
   "cell_type": "markdown",
   "metadata": {},
   "source": [
    "# Training and Testing with Plankton Data"
   ]
  },
  {
   "cell_type": "code",
   "execution_count": 11,
   "metadata": {},
   "outputs": [],
   "source": [
    "# using my custom dataloader \n",
    "from utils.dataloader import get_dataloaders, save_label_to_idx, CustomDataset\n",
    "from utils.model_utils import train_model, save_model, generate_unique_model_name"
   ]
  },
  {
   "cell_type": "code",
   "execution_count": 12,
   "metadata": {},
   "outputs": [
    {
     "name": "stdout",
     "output_type": "stream",
     "text": [
      "Transforms being applied: [Resize(size=[256, 256], interpolation=bilinear, max_size=None, antialias=None), ToTensor()]\n"
     ]
    },
    {
     "data": {
      "text/plain": [
       "{'train': <torch.utils.data.dataloader.DataLoader at 0x2008ab539540>,\n",
       " 'val': <torch.utils.data.dataloader.DataLoader at 0x20095181c3a0>,\n",
       " 'test': <torch.utils.data.dataloader.DataLoader at 0x20095181d000>}"
      ]
     },
     "execution_count": 12,
     "metadata": {},
     "output_type": "execute_result"
    }
   ],
   "source": [
    "data_dir = \"/home/birdy/meng_thesis/data/unsorted_MGL1704_data\"\n",
    "label_path = \"/home/birdy/meng_thesis/data/mgl1704_labels.csv\"\n",
    "# Data preparation\n",
    "dataloaders = get_dataloaders(data_dir, label_path, batch_size=256)\n",
    "dataloaders"
   ]
  },
  {
   "cell_type": "code",
   "execution_count": 13,
   "metadata": {},
   "outputs": [],
   "source": [
    "# create model \n",
    "# num_classes = dataloaders[\"train\"].dataset.num_classes()\n",
    "model = VisionTransformer(n_channels=3, nout=138, img_size=256, patch_size=32,\n",
    "                          dim=128, attn_dim=64, mlp_dim=128, num_heads=3, num_layers=6).cuda()\n",
    "\n",
    "criterion = nn.CrossEntropyLoss()\n",
    "\n",
    "\n",
    "NUM_EPOCHS = 10\n",
    "optimizer = optim.AdamW(model.parameters(), lr=0.001)\n",
    "scheduler = optim.lr_scheduler.CosineAnnealingLR(optimizer, T_max=NUM_EPOCHS)"
   ]
  },
  {
   "cell_type": "code",
   "execution_count": 16,
   "metadata": {},
   "outputs": [
    {
     "name": "stderr",
     "output_type": "stream",
     "text": [
      "100%|██████████| 390/390 [04:17<00:00,  1.51it/s]"
     ]
    },
    {
     "name": "stdout",
     "output_type": "stream",
     "text": [
      "Train Epoch: 0, Loss: 3.307667589798952, Acc: 0.20640024038461538\n"
     ]
    },
    {
     "name": "stderr",
     "output_type": "stream",
     "text": [
      "\n"
     ]
    },
    {
     "name": "stdout",
     "output_type": "stream",
     "text": [
      "Val Epoch: 0, Loss: 3.744976066594766, Acc: 0.13824008691198644\n"
     ]
    },
    {
     "name": "stderr",
     "output_type": "stream",
     "text": [
      "100%|██████████| 390/390 [04:18<00:00,  1.51it/s]\n"
     ]
    },
    {
     "name": "stdout",
     "output_type": "stream",
     "text": [
      "Train Epoch: 1, Loss: 3.3044716792228894, Acc: 0.2045372596153846\n"
     ]
    },
    {
     "name": "stderr",
     "output_type": "stream",
     "text": [
      "100%|██████████| 390/390 [04:18<00:00,  1.51it/s]\n"
     ]
    },
    {
     "name": "stdout",
     "output_type": "stream",
     "text": [
      "Train Epoch: 2, Loss: 3.299294230876825, Acc: 0.2015925480769231\n"
     ]
    },
    {
     "name": "stderr",
     "output_type": "stream",
     "text": [
      "100%|██████████| 390/390 [04:17<00:00,  1.51it/s]\n"
     ]
    },
    {
     "name": "stdout",
     "output_type": "stream",
     "text": [
      "Train Epoch: 3, Loss: 3.2809208631515503, Acc: 0.2012419871794872\n"
     ]
    },
    {
     "name": "stderr",
     "output_type": "stream",
     "text": [
      "100%|██████████| 390/390 [04:17<00:00,  1.51it/s]\n"
     ]
    },
    {
     "name": "stdout",
     "output_type": "stream",
     "text": [
      "Train Epoch: 4, Loss: 3.2723294637142084, Acc: 0.19904847756410257\n"
     ]
    },
    {
     "name": "stderr",
     "output_type": "stream",
     "text": [
      "100%|██████████| 390/390 [04:18<00:00,  1.51it/s]\n"
     ]
    },
    {
     "name": "stdout",
     "output_type": "stream",
     "text": [
      "Train Epoch: 5, Loss: 3.2358628511428833, Acc: 0.20931490384615384\n"
     ]
    },
    {
     "name": "stderr",
     "output_type": "stream",
     "text": [
      "100%|██████████| 390/390 [04:18<00:00,  1.51it/s]\n"
     ]
    },
    {
     "name": "stdout",
     "output_type": "stream",
     "text": [
      "Train Epoch: 6, Loss: 3.22144349416097, Acc: 0.2069110576923077\n"
     ]
    },
    {
     "name": "stderr",
     "output_type": "stream",
     "text": [
      "100%|██████████| 390/390 [04:19<00:00,  1.50it/s]\n"
     ]
    },
    {
     "name": "stdout",
     "output_type": "stream",
     "text": [
      "Train Epoch: 7, Loss: 3.1937955024914864, Acc: 0.21200921474358975\n"
     ]
    },
    {
     "name": "stderr",
     "output_type": "stream",
     "text": [
      "100%|██████████| 390/390 [04:16<00:00,  1.52it/s]\n"
     ]
    },
    {
     "name": "stdout",
     "output_type": "stream",
     "text": [
      "Train Epoch: 8, Loss: 3.141691338098966, Acc: 0.21728766025641025\n"
     ]
    },
    {
     "name": "stderr",
     "output_type": "stream",
     "text": [
      "100%|██████████| 390/390 [04:18<00:00,  1.51it/s]\n"
     ]
    },
    {
     "name": "stdout",
     "output_type": "stream",
     "text": [
      "Train Epoch: 9, Loss: 3.122473665384146, Acc: 0.22278645833333333\n"
     ]
    },
    {
     "name": "stderr",
     "output_type": "stream",
     "text": [
      "100%|██████████| 390/390 [04:16<00:00,  1.52it/s]"
     ]
    },
    {
     "name": "stdout",
     "output_type": "stream",
     "text": [
      "Train Epoch: 10, Loss: 3.0810273537269004, Acc: 0.22906650641025642\n"
     ]
    },
    {
     "name": "stderr",
     "output_type": "stream",
     "text": [
      "\n"
     ]
    },
    {
     "name": "stdout",
     "output_type": "stream",
     "text": [
      "Val Epoch: 10, Loss: 3.722373844063615, Acc: 0.1307260546817763\n"
     ]
    },
    {
     "name": "stderr",
     "output_type": "stream",
     "text": [
      "100%|██████████| 390/390 [04:17<00:00,  1.52it/s]\n"
     ]
    },
    {
     "name": "stdout",
     "output_type": "stream",
     "text": [
      "Train Epoch: 11, Loss: 3.057301378861452, Acc: 0.23459535256410258\n"
     ]
    },
    {
     "name": "stderr",
     "output_type": "stream",
     "text": [
      "100%|██████████| 390/390 [04:17<00:00,  1.51it/s]\n"
     ]
    },
    {
     "name": "stdout",
     "output_type": "stream",
     "text": [
      "Train Epoch: 12, Loss: 3.037443576103602, Acc: 0.23931290064102564\n"
     ]
    },
    {
     "name": "stderr",
     "output_type": "stream",
     "text": [
      "100%|██████████| 390/390 [04:16<00:00,  1.52it/s]\n"
     ]
    },
    {
     "name": "stdout",
     "output_type": "stream",
     "text": [
      "Train Epoch: 13, Loss: 4.819811228605417, Acc: 0.06948116987179487\n"
     ]
    },
    {
     "name": "stderr",
     "output_type": "stream",
     "text": [
      "100%|██████████| 390/390 [04:14<00:00,  1.53it/s]\n"
     ]
    },
    {
     "name": "stdout",
     "output_type": "stream",
     "text": [
      "Train Epoch: 14, Loss: 5.315664801230797, Acc: 0.008353365384615384\n"
     ]
    },
    {
     "name": "stderr",
     "output_type": "stream",
     "text": [
      "100%|██████████| 390/390 [04:17<00:00,  1.52it/s]\n"
     ]
    },
    {
     "name": "stdout",
     "output_type": "stream",
     "text": [
      "Train Epoch: 15, Loss: 4.879505699108808, Acc: 0.012540064102564103\n"
     ]
    },
    {
     "name": "stderr",
     "output_type": "stream",
     "text": [
      "100%|██████████| 390/390 [04:15<00:00,  1.53it/s]\n"
     ]
    },
    {
     "name": "stdout",
     "output_type": "stream",
     "text": [
      "Train Epoch: 16, Loss: 4.41158417555002, Acc: 0.06142828525641025\n"
     ]
    },
    {
     "name": "stderr",
     "output_type": "stream",
     "text": [
      "100%|██████████| 390/390 [04:15<00:00,  1.52it/s]\n"
     ]
    },
    {
     "name": "stdout",
     "output_type": "stream",
     "text": [
      "Train Epoch: 17, Loss: 3.593820465528048, Acc: 0.15213341346153847\n"
     ]
    },
    {
     "name": "stderr",
     "output_type": "stream",
     "text": [
      "100%|██████████| 390/390 [04:17<00:00,  1.51it/s]\n"
     ]
    },
    {
     "name": "stdout",
     "output_type": "stream",
     "text": [
      "Train Epoch: 18, Loss: 3.3458266667830636, Acc: 0.19626402243589744\n"
     ]
    },
    {
     "name": "stderr",
     "output_type": "stream",
     "text": [
      "100%|██████████| 390/390 [04:14<00:00,  1.53it/s]\n"
     ]
    },
    {
     "name": "stdout",
     "output_type": "stream",
     "text": [
      "Train Epoch: 19, Loss: 3.2938556854541483, Acc: 0.2029647435897436\n"
     ]
    },
    {
     "name": "stderr",
     "output_type": "stream",
     "text": [
      "100%|██████████| 390/390 [04:17<00:00,  1.51it/s]"
     ]
    },
    {
     "name": "stdout",
     "output_type": "stream",
     "text": [
      "Train Epoch: 20, Loss: 3.293255201364175, Acc: 0.21021634615384616\n"
     ]
    },
    {
     "name": "stderr",
     "output_type": "stream",
     "text": [
      "\n"
     ]
    },
    {
     "name": "stdout",
     "output_type": "stream",
     "text": [
      "Val Epoch: 20, Loss: 3.8234862818197923, Acc: 0.10869696420037946\n"
     ]
    },
    {
     "name": "stderr",
     "output_type": "stream",
     "text": [
      "100%|██████████| 390/390 [04:15<00:00,  1.53it/s]\n"
     ]
    },
    {
     "name": "stdout",
     "output_type": "stream",
     "text": [
      "Train Epoch: 21, Loss: 3.306183360173152, Acc: 0.20682091346153847\n"
     ]
    },
    {
     "name": "stderr",
     "output_type": "stream",
     "text": [
      "100%|██████████| 390/390 [04:14<00:00,  1.53it/s]\n"
     ]
    },
    {
     "name": "stdout",
     "output_type": "stream",
     "text": [
      "Train Epoch: 22, Loss: 3.214087296143556, Acc: 0.21956129807692307\n"
     ]
    },
    {
     "name": "stderr",
     "output_type": "stream",
     "text": [
      "100%|██████████| 390/390 [04:14<00:00,  1.53it/s]\n"
     ]
    },
    {
     "name": "stdout",
     "output_type": "stream",
     "text": [
      "Train Epoch: 23, Loss: 3.671477089784084, Acc: 0.17286658653846154\n"
     ]
    },
    {
     "name": "stderr",
     "output_type": "stream",
     "text": [
      "100%|██████████| 390/390 [04:16<00:00,  1.52it/s]\n"
     ]
    },
    {
     "name": "stdout",
     "output_type": "stream",
     "text": [
      "Train Epoch: 24, Loss: 3.35861366773263, Acc: 0.18553685897435898\n"
     ]
    },
    {
     "name": "stderr",
     "output_type": "stream",
     "text": [
      "100%|██████████| 390/390 [04:17<00:00,  1.52it/s]\n"
     ]
    },
    {
     "name": "stdout",
     "output_type": "stream",
     "text": [
      "Train Epoch: 25, Loss: 3.1288834700217616, Acc: 0.2278545673076923\n"
     ]
    },
    {
     "name": "stderr",
     "output_type": "stream",
     "text": [
      "100%|██████████| 390/390 [04:15<00:00,  1.52it/s]\n"
     ]
    },
    {
     "name": "stdout",
     "output_type": "stream",
     "text": [
      "Train Epoch: 26, Loss: 3.0848606830988174, Acc: 0.23576722756410257\n"
     ]
    },
    {
     "name": "stderr",
     "output_type": "stream",
     "text": [
      "100%|██████████| 390/390 [04:18<00:00,  1.51it/s]\n"
     ]
    },
    {
     "name": "stdout",
     "output_type": "stream",
     "text": [
      "Train Epoch: 27, Loss: 3.036217009715545, Acc: 0.24328926282051283\n"
     ]
    },
    {
     "name": "stderr",
     "output_type": "stream",
     "text": [
      "100%|██████████| 390/390 [04:17<00:00,  1.52it/s]\n"
     ]
    },
    {
     "name": "stdout",
     "output_type": "stream",
     "text": [
      "Train Epoch: 28, Loss: 2.990244772495368, Acc: 0.2529847756410256\n"
     ]
    },
    {
     "name": "stderr",
     "output_type": "stream",
     "text": [
      "100%|██████████| 390/390 [04:14<00:00,  1.53it/s]\n"
     ]
    },
    {
     "name": "stdout",
     "output_type": "stream",
     "text": [
      "Train Epoch: 29, Loss: 4.719738027377006, Acc: 0.08231169871794872\n"
     ]
    },
    {
     "name": "stderr",
     "output_type": "stream",
     "text": [
      "100%|██████████| 390/390 [04:17<00:00,  1.52it/s]"
     ]
    },
    {
     "name": "stdout",
     "output_type": "stream",
     "text": [
      "Train Epoch: 30, Loss: 4.930598781047723, Acc: 0.008193108974358975\n"
     ]
    },
    {
     "name": "stderr",
     "output_type": "stream",
     "text": [
      "\n"
     ]
    },
    {
     "name": "stdout",
     "output_type": "stream",
     "text": [
      "Val Epoch: 30, Loss: 5.024842269261333, Acc: 0.00841933731667572\n"
     ]
    },
    {
     "name": "stderr",
     "output_type": "stream",
     "text": [
      "100%|██████████| 390/390 [04:14<00:00,  1.53it/s]\n"
     ]
    },
    {
     "name": "stdout",
     "output_type": "stream",
     "text": [
      "Train Epoch: 31, Loss: 4.927850328347621, Acc: 0.008403445512820512\n"
     ]
    },
    {
     "name": "stderr",
     "output_type": "stream",
     "text": [
      "100%|██████████| 390/390 [04:16<00:00,  1.52it/s]\n"
     ]
    },
    {
     "name": "stdout",
     "output_type": "stream",
     "text": [
      "Train Epoch: 32, Loss: 4.92567398976057, Acc: 0.008413461538461538\n"
     ]
    },
    {
     "name": "stderr",
     "output_type": "stream",
     "text": [
      "100%|██████████| 390/390 [04:27<00:00,  1.46it/s]\n"
     ]
    },
    {
     "name": "stdout",
     "output_type": "stream",
     "text": [
      "Train Epoch: 33, Loss: 4.923239163863353, Acc: 0.007992788461538461\n"
     ]
    },
    {
     "name": "stderr",
     "output_type": "stream",
     "text": [
      "100%|██████████| 390/390 [04:18<00:00,  1.51it/s]\n"
     ]
    },
    {
     "name": "stdout",
     "output_type": "stream",
     "text": [
      "Train Epoch: 34, Loss: 4.920283540089925, Acc: 0.009114583333333334\n"
     ]
    },
    {
     "name": "stderr",
     "output_type": "stream",
     "text": [
      "100%|██████████| 390/390 [04:14<00:00,  1.53it/s]\n"
     ]
    },
    {
     "name": "stdout",
     "output_type": "stream",
     "text": [
      "Train Epoch: 35, Loss: 4.916911397836147, Acc: 0.009375\n"
     ]
    },
    {
     "name": "stderr",
     "output_type": "stream",
     "text": [
      "100%|██████████| 390/390 [04:14<00:00,  1.53it/s]\n"
     ]
    },
    {
     "name": "stdout",
     "output_type": "stream",
     "text": [
      "Train Epoch: 36, Loss: 4.915509677544618, Acc: 0.009184695512820513\n"
     ]
    },
    {
     "name": "stderr",
     "output_type": "stream",
     "text": [
      "100%|██████████| 390/390 [04:16<00:00,  1.52it/s]\n"
     ]
    },
    {
     "name": "stdout",
     "output_type": "stream",
     "text": [
      "Train Epoch: 37, Loss: 4.912756595856104, Acc: 0.009585336538461539\n"
     ]
    },
    {
     "name": "stderr",
     "output_type": "stream",
     "text": [
      "100%|██████████| 390/390 [04:17<00:00,  1.51it/s]\n"
     ]
    },
    {
     "name": "stdout",
     "output_type": "stream",
     "text": [
      "Train Epoch: 38, Loss: 4.910809360406337, Acc: 0.010596955128205129\n"
     ]
    },
    {
     "name": "stderr",
     "output_type": "stream",
     "text": [
      "100%|██████████| 390/390 [04:17<00:00,  1.52it/s]\n"
     ]
    },
    {
     "name": "stdout",
     "output_type": "stream",
     "text": [
      "Train Epoch: 39, Loss: 4.909821359927838, Acc: 0.013912259615384615\n"
     ]
    },
    {
     "name": "stderr",
     "output_type": "stream",
     "text": [
      "100%|██████████| 390/390 [04:17<00:00,  1.52it/s]"
     ]
    },
    {
     "name": "stdout",
     "output_type": "stream",
     "text": [
      "Train Epoch: 40, Loss: 4.909702808429033, Acc: 0.014082532051282052\n"
     ]
    },
    {
     "name": "stderr",
     "output_type": "stream",
     "text": [
      "\n"
     ]
    },
    {
     "name": "stdout",
     "output_type": "stream",
     "text": [
      "Val Epoch: 40, Loss: 5.012264289236636, Acc: 0.012251795521982333\n"
     ]
    },
    {
     "name": "stderr",
     "output_type": "stream",
     "text": [
      "100%|██████████| 390/390 [04:16<00:00,  1.52it/s]\n"
     ]
    },
    {
     "name": "stdout",
     "output_type": "stream",
     "text": [
      "Train Epoch: 41, Loss: 4.909544526613676, Acc: 0.016025641025641024\n"
     ]
    },
    {
     "name": "stderr",
     "output_type": "stream",
     "text": [
      "100%|██████████| 390/390 [04:17<00:00,  1.51it/s]\n"
     ]
    },
    {
     "name": "stdout",
     "output_type": "stream",
     "text": [
      "Train Epoch: 42, Loss: 4.910664150042412, Acc: 0.013090945512820513\n"
     ]
    },
    {
     "name": "stderr",
     "output_type": "stream",
     "text": [
      "100%|██████████| 390/390 [04:16<00:00,  1.52it/s]\n"
     ]
    },
    {
     "name": "stdout",
     "output_type": "stream",
     "text": [
      "Train Epoch: 43, Loss: 4.912516849468916, Acc: 0.011147836538461539\n"
     ]
    },
    {
     "name": "stderr",
     "output_type": "stream",
     "text": [
      "100%|██████████| 390/390 [04:17<00:00,  1.52it/s]\n"
     ]
    },
    {
     "name": "stdout",
     "output_type": "stream",
     "text": [
      "Train Epoch: 44, Loss: 4.914354978463589, Acc: 0.010046073717948719\n"
     ]
    },
    {
     "name": "stderr",
     "output_type": "stream",
     "text": [
      "100%|██████████| 390/390 [04:15<00:00,  1.53it/s]\n"
     ]
    },
    {
     "name": "stdout",
     "output_type": "stream",
     "text": [
      "Train Epoch: 45, Loss: 4.916754723817874, Acc: 0.00884415064102564\n"
     ]
    },
    {
     "name": "stderr",
     "output_type": "stream",
     "text": [
      "100%|██████████| 390/390 [04:16<00:00,  1.52it/s]\n"
     ]
    },
    {
     "name": "stdout",
     "output_type": "stream",
     "text": [
      "Train Epoch: 46, Loss: 4.914254571229984, Acc: 0.00969551282051282\n"
     ]
    },
    {
     "name": "stderr",
     "output_type": "stream",
     "text": [
      "100%|██████████| 390/390 [04:17<00:00,  1.52it/s]\n"
     ]
    },
    {
     "name": "stdout",
     "output_type": "stream",
     "text": [
      "Train Epoch: 47, Loss: 4.9102242836585415, Acc: 0.010116185897435898\n"
     ]
    },
    {
     "name": "stderr",
     "output_type": "stream",
     "text": [
      "100%|██████████| 390/390 [04:13<00:00,  1.54it/s]\n"
     ]
    },
    {
     "name": "stdout",
     "output_type": "stream",
     "text": [
      "Train Epoch: 48, Loss: 4.906985543324397, Acc: 0.012890625\n"
     ]
    },
    {
     "name": "stderr",
     "output_type": "stream",
     "text": [
      "100%|██████████| 390/390 [04:15<00:00,  1.53it/s]"
     ]
    },
    {
     "name": "stdout",
     "output_type": "stream",
     "text": [
      "Train Epoch: 49, Loss: 4.899460077285767, Acc: 0.013141025641025641\n"
     ]
    },
    {
     "name": "stderr",
     "output_type": "stream",
     "text": [
      "\n"
     ]
    },
    {
     "name": "stdout",
     "output_type": "stream",
     "text": [
      "Val Epoch: 49, Loss: 5.006300639801145, Acc: 0.007876154264211798\n",
      "Finished Training\n"
     ]
    }
   ],
   "source": [
    "# train the model\n",
    "import tqdm\n",
    "NUM_EPOCHS = 50\n",
    "for epoch in range(NUM_EPOCHS):  #\n",
    "    loss_meter = AverageMeter()\n",
    "    acc_meter = AverageMeter()\n",
    "    for img, labels in tqdm.tqdm(dataloaders['train']):\n",
    "        img, labels = img.cuda(), labels.cuda()\n",
    "\n",
    "        optimizer.zero_grad()\n",
    "\n",
    "        outputs, _ = model(img)\n",
    "        loss = criterion(outputs, labels)\n",
    "        loss_meter.update(loss.item(), len(img))\n",
    "        acc = (outputs.argmax(-1) == labels).float().mean().item()\n",
    "        acc_meter.update(acc, len(img))\n",
    "        loss.backward()\n",
    "        optimizer.step()\n",
    "    scheduler.step()\n",
    "    print(f\"Train Epoch: {epoch}, Loss: {loss_meter.calculate()}, Acc: {acc_meter.calculate()}\")\n",
    "    if epoch % 10 == 0:\n",
    "        val_loss, val_acc = evaluate_cifar_model(model, criterion, dataloaders['val'])\n",
    "        print(f\"Val Epoch: {epoch}, Loss: {val_loss}, Acc: {val_acc}\")\n",
    "\n",
    "val_loss, val_acc = evaluate_cifar_model(model, criterion, dataloaders['val'])\n",
    "print(f\"Val Epoch: {epoch}, Loss: {val_loss}, Acc: {val_acc}\")\n",
    "print('Finished Training')\n",
    "\n",
    "#save the model \n",
    "from utils.model_utils import save_model\n",
    "output_dir = '/home/birdy/meng_thesis/code/master_ifcb_classifier/output'\n",
    "save_model(model, output_dir, model_name=f\"vit_MGL1704_{NUM_EPOCHS}\")"
   ]
  },
  {
   "cell_type": "code",
   "execution_count": 15,
   "metadata": {},
   "outputs": [
    {
     "name": "stdout",
     "output_type": "stream",
     "text": [
      "Val Epoch: 9, Loss: 3.7499814135385514, Acc: 0.1376969038592977\n",
      "Finished Training\n"
     ]
    }
   ],
   "source": [
    "val_loss, val_acc = evaluate_cifar_model(model, criterion, dataloaders['val'])\n",
    "print(f\"Val Epoch: {epoch}, Loss: {val_loss}, Acc: {val_acc}\")\n",
    "print('Finished Training')\n",
    "\n",
    "#save the model \n",
    "from utils.model_utils import save_model\n",
    "output_dir = '/home/birdy/meng_thesis/code/master_ifcb_classifier/output'\n",
    "save_model(model, output_dir, model_name=\"vit_MGL1704\")"
   ]
  },
  {
   "cell_type": "code",
   "execution_count": null,
   "metadata": {},
   "outputs": [],
   "source": []
  }
 ],
 "metadata": {
  "kernelspec": {
   "display_name": "cv-kern",
   "language": "python",
   "name": "cv-kern"
  },
  "language_info": {
   "codemirror_mode": {
    "name": "ipython",
    "version": 3
   },
   "file_extension": ".py",
   "mimetype": "text/x-python",
   "name": "python",
   "nbconvert_exporter": "python",
   "pygments_lexer": "ipython3",
   "version": "3.10.13"
  }
 },
 "nbformat": 4,
 "nbformat_minor": 4
}
